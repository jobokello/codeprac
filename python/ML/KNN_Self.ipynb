{
 "cells": [
  {
   "cell_type": "code",
   "execution_count": 21,
   "metadata": {},
   "outputs": [
    {
     "name": "stdout",
     "output_type": "stream",
     "text": [
      "[('k', 3)]\n",
      "k\n"
     ]
    },
    {
     "data": {
      "image/png": "[encoded data removed]",
      "text/plain": [
       "<Figure size 432x288 with 1 Axes>"
      ]
     },
     "metadata": {},
     "output_type": "display_data"
    }
   ],
   "source": [
    "'''\n",
    "Okello Job Opiyo\n",
    "Reg no. P15/37353/2016\n",
    "KNN Algorithm\n",
    "'''\n",
    "import numpy as np\n",
    "from math import sqrt\n",
    "import matplotlib.pyplot as plt\n",
    "import warnings\n",
    "from collections import Counter\n",
    "from matplotlib import style\n",
    "style.use('fivethirtyeight')\n",
    "\n",
    "#traininng data\n",
    "dataset = {'k': [[1,4],[2,3],[3,1],[2,6],[1,4],[3,7],[3,3],[2,5]], 'r':[[6,5],[7,7],[8,6],[6,5],[6,3],[5,7],[8,6],[5,5]]}\n",
    "\n",
    "#new data instance\n",
    "new_data = [2,5]\n",
    "\n",
    "\n",
    "\n",
    "def knn(data,predict, k=3):\n",
    "    if len(data) >= k:\n",
    "        warnings.warn('k is less than total voting group')\n",
    "    distances = [] \n",
    "    \n",
    "    #getting euclidian distance between data items\n",
    "    for group in data:\n",
    "        for features in data[group]:\n",
    "            euclidian_distance = np.linalg.norm(np.array(features) - np.array(predict))\n",
    "            distances.append([euclidian_distance, group])\n",
    "            \n",
    "    #cumulative votes to determine class    \n",
    "    votes = [i[1] for i in sorted(distances)[:k]]\n",
    "    print(Counter(votes).most_common(1))\n",
    "    vote_result = Counter(votes).most_common(1)[0][0]\n",
    "        \n",
    "    return vote_result\n",
    "\n",
    "result = knn(dataset, new_data, k=3)\n",
    "\n",
    "print(result)\n",
    "\n",
    "#plot of new sorted data\n",
    "[[plt.scatter(ii[0],ii[1], s=50, color=i) for ii in dataset[i]] for i in dataset]\n",
    "plt.scatter(new_data[0], new_data[1], marker ='*', s=150, color = result)\n",
    "plt.show()\n"
   ]
  },
  {
   "cell_type": "code",
   "execution_count": null,
   "metadata": {},
   "outputs": [],
   "source": [
    "nd"
   ]
  }
 ],
 "metadata": {
  "kernelspec": {
   "display_name": "Python 2",
   "language": "python",
   "name": "python2"
  },
  "language_info": {
   "codemirror_mode": {
    "name": "ipython",
    "version": 2
   },
   "file_extension": ".py",
   "mimetype": "text/x-python",
   "name": "python",
   "nbconvert_exporter": "python",
   "pygments_lexer": "ipython2",
   "version": "2.7.15"
  }
 },
 "nbformat": 4,
 "nbformat_minor": 2
}
