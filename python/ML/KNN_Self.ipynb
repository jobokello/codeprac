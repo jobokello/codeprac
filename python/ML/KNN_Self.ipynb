{
 "cells": [
  {
   "cell_type": "code",
   "execution_count": 22,
   "metadata": {},
   "outputs": [
    {
     "name": "stdout",
     "output_type": "stream",
     "text": [
      "[('k', 3)]\n",
      "k\n"
     ]
    },
    {
     "data": {
      "image/png": "[encoded data removed]",
      "text/plain": [
       "<Figure size 432x288 with 1 Axes>"
      ]
     },
     "metadata": {},
     "output_type": "display_data"
    }
   ],
   "source": [
    "import numpy as np\n",
    "from math import sqrt\n",
    "import matplotlib.pyplot as plt\n",
    "import warnings\n",
    "from collections import Counter\n",
    "from matplotlib import style\n",
    "style.use('fivethirtyeight')\n",
    "\n",
    "dataset = {'k': [[1,4],[2,3],[3,1],[2,6]], 'r':[[6,5],[7,7],[8,6],[6,5]]}\n",
    "new_data = [2,3]\n",
    "\n",
    "\n",
    "\n",
    "def knn(data,predict, k=3):\n",
    "    if len(data) >= k:\n",
    "        warnings.warn('k is less than total voting group')\n",
    "    distances = [] \n",
    "    for group in data:\n",
    "        for features in data[group]:\n",
    "            euclidian_distance = np.linalg.norm(np.array(features) - np.array(predict))\n",
    "            distances.append([euclidian_distance, group])\n",
    "        \n",
    "    votes = [i[1] for i in sorted(distances)[:k]]\n",
    "    print(Counter(votes).most_common(1))\n",
    "    vote_result = Counter(votes).most_common(1)[0][0]\n",
    "        \n",
    "    return vote_result\n",
    "\n",
    "result = knn(dataset, new_data, k=3)\n",
    "\n",
    "print(result)\n",
    "\n",
    "[[plt.scatter(ii[0],ii[1], s=100, color=i) for ii in dataset[i]] for i in dataset]\n",
    "plt.scatter(new_features[0], new_features[1], color = result)\n",
    "plt.show()\n",
    "\n",
    "#euclidian_distance = sqrt((plot1[0]-plot2[0])**2 + (plot1[1]-plot2[1])**2)\n",
    "#print(euclidian_distance)"
   ]
  },
  {
   "cell_type": "code",
   "execution_count": null,
   "metadata": {},
   "outputs": [],
   "source": [
    "nd"
   ]
  }
 ],
 "metadata": {
  "kernelspec": {
   "display_name": "Python 2",
   "language": "python",
   "name": "python2"
  },
  "language_info": {
   "codemirror_mode": {
    "name": "ipython",
    "version": 2
   },
   "file_extension": ".py",
   "mimetype": "text/x-python",
   "name": "python",
   "nbconvert_exporter": "python",
   "pygments_lexer": "ipython2",
   "version": "2.7.15"
  }
 },
 "nbformat": 4,
 "nbformat_minor": 2
}
