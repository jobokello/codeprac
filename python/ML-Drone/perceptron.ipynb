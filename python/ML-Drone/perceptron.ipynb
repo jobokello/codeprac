{
 "cells": [
  {
   "cell_type": "code",
   "execution_count": 52,
   "metadata": {},
   "outputs": [
    {
     "name": "stdout",
     "output_type": "stream",
     "text": [
      "\n",
      "\n",
      "Graphical Represetation of flowers classification\n",
      "=================================================\n",
      "\n"
     ]
    },
    {
     "data": {
      "image/png": "[encoded data removed]",
      "text/plain": [
       "<Figure size 432x288 with 1 Axes>"
      ]
     },
     "metadata": {},
     "output_type": "display_data"
    },
    {
     "name": "stdout",
     "output_type": "stream",
     "text": [
      "\n",
      "\n",
      "Error reduction against iterartions through data\n",
      "=================================================\n",
      "\n"
     ]
    },
    {
     "data": {
      "image/png": "[encoded data removed]",
      "text/plain": [
       "<Figure size 432x288 with 1 Axes>"
      ]
     },
     "metadata": {},
     "output_type": "display_data"
    },
    {
     "name": "stdout",
     "output_type": "stream",
     "text": [
      "\n",
      "\n",
      "The predictions after learning\n",
      "==============================\n",
      "\n",
      "the flower belongs to Iris Setosa\n",
      "the flower belongs to Iris Setosa\n",
      "the flower belongs to Versicolor\n",
      "the flower belongs to Iris Setosa\n",
      "the flower belongs to Iris Setosa\n",
      "the flower belongs to Iris Setosa\n",
      "the flower belongs to Iris Setosa\n",
      "the flower belongs to Iris Setosa\n",
      "the flower belongs to Iris Setosa\n",
      "the flower belongs to Iris Setosa\n",
      "the flower belongs to Iris Setosa\n",
      "the flower belongs to Versicolor\n",
      "the flower belongs to Iris Setosa\n",
      "the flower belongs to Iris Setosa\n",
      "the flower belongs to Iris Setosa\n",
      "the flower belongs to Versicolor\n",
      "the flower belongs to Iris Setosa\n",
      "the flower belongs to Iris Setosa\n",
      "the flower belongs to Iris Setosa\n",
      "the flower belongs to Versicolor\n",
      "the flower belongs to Iris Setosa\n",
      "the flower belongs to Iris Setosa\n",
      "the flower belongs to Iris Setosa\n",
      "the flower belongs to Iris Setosa\n"
     ]
    }
   ],
   "source": [
    "'''\n",
    "Okello Job Opiyo\n",
    "Reg no. P15/37353/2016\n",
    "Perceptron Algorithm\n",
    "'''\n",
    "import numpy as np\n",
    "import pandas as pd\n",
    "import matplotlib.pyplot as plt\n",
    "from matplotlib.colors import ListedColormap\n",
    "\n",
    "class Perceptron(object):\n",
    "    #initializes every new object of the class\n",
    "    def __init__(self, eta=0.01, n_iter=20):\n",
    "        self.eta = eta #learnig rate\n",
    "        self.n_iter = n_iter #training times\n",
    "     \n",
    "    #takes in data for training the perceptron\n",
    "    def fit(self,X,y):\n",
    "        self.w_ = np.zeros(1+X.shape[1]) #weight initialization\n",
    "        self.errors = []\n",
    "        \n",
    "        #goes through each row of the data set and finds the error after every complete feed\n",
    "        for _ in range(self.n_iter):\n",
    "            errors = 0\n",
    "            for xi,target in zip(X,y):\n",
    "                update = self.eta*(target - self.predict(xi)) #  W = n(output-prediction)*X \n",
    "                self.w_[1:] += update * xi\n",
    "                self.w_[0] = update #weight adjustment\n",
    "                errors += int(update !=0.0)\n",
    "            self.errors.append(errors)\n",
    "            \n",
    "        return self\n",
    "    \n",
    "    #calculates the net input\n",
    "    def net_input(self,X):\n",
    "        return np.dot(X,self.w_[1:]) + self.w_[0]\n",
    "    \n",
    "    #returns the next prediction after the end of each row of the data set \n",
    "    def predict(self,X):\n",
    "        return np.where(self.net_input(X) >= 0.0,1,-1)\n",
    "\n",
    "#linear representation of the data after classification\n",
    "df = pd.read_csv('iris.data',header = None)\n",
    "y = df.iloc[0:100,4].values\n",
    "y = np.where(y == 'Iris-setosa',-1,1)\n",
    "X = df.iloc[0:100,[0,2]].values\n",
    "plt.scatter(X[:50,0],X[:50,1], color = 'blue', marker = 'o', label = 'Setosa')\n",
    "plt.scatter(X[50:100,0], X[50:100,1], color = 'red', marker = 'x', label = 'Versicolor')\n",
    "plt.xlabel('sepal_length')\n",
    "plt.ylabel('petal_length')\n",
    "plt.legend(loc = 'upper left')\n",
    "\n",
    "print '\\n\\nGraphical Represetation of flowers classification\\n=================================================\\n'\n",
    "plt.show()\n",
    "\n",
    "#Classication errors representation after each learning cycle\n",
    "ppn = Perceptron(eta = 0.1, n_iter = 10)\n",
    "ppn.fit(X,y)\n",
    "plt.plot(range(1,len(ppn.errors) + 1), ppn.errors)\n",
    "plt.xlabel('Number of completed learning cycles for classifications')\n",
    "plt.ylabel('Size of error')\n",
    "\n",
    "print '\\n\\nError reduction against iterartions through data\\n=================================================\\n'\n",
    "plt.show()\n",
    "\n",
    "#new data for classificatin\n",
    "newData = [[5. ,1.4],[5.4,1.7],[7.2,5.8],[5. ,1.5],[4.4,1.4],[4.9,1.5],[5.4,1.5],[4.8,1.6],[4.8,1.4],[4.3,1.1],[5.8,1.2]\n",
    "           ,[6.7,5.6],[5.4,1.3],[5.1,1.4],[5.7,1.7],[7.2,6.0],[5.4,1.7],[5.1,1.5],[4.6,1. ],[6.9,5.1],[4.8,1.9],[5. ,1.6]\n",
    "           ,[5. ,1.6],[5.2,1.5]]\n",
    "\n",
    "print '\\n\\nThe predictions after learning\\n==============================\\n'\n",
    "\n",
    "#predictions on new data\n",
    "\n",
    "for newIput in newData:\n",
    "    \n",
    "    if ppn.predict([newIput]) == -1:\n",
    "        print 'the flower belongs to Iris Setosa'\n",
    "    else:\n",
    "        print 'the flower belongs to Versicolor'\n",
    "        \n",
    "    "
   ]
  },
  {
   "cell_type": "code",
   "execution_count": null,
   "metadata": {},
   "outputs": [],
   "source": []
  }
 ],
 "metadata": {
  "kernelspec": {
   "display_name": "Python 2",
   "language": "python",
   "name": "python2"
  },
  "language_info": {
   "codemirror_mode": {
    "name": "ipython",
    "version": 2
   },
   "file_extension": ".py",
   "mimetype": "text/x-python",
   "name": "python",
   "nbconvert_exporter": "python",
   "pygments_lexer": "ipython2",
   "version": "2.7.15"
  }
 },
 "nbformat": 4,
 "nbformat_minor": 2
}
