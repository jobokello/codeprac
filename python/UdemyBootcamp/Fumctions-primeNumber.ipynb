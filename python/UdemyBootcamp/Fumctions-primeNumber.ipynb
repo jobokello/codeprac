{
 "cells": [
  {
   "cell_type": "code",
   "execution_count": 15,
   "metadata": {},
   "outputs": [
    {
     "name": "stdout",
     "output_type": "stream",
     "text": [
      "the number 23  is prime\n"
     ]
    }
   ],
   "source": [
    "def primeNum(number):\n",
    "    for x in range(2,number):\n",
    "        if number%x == 0:\n",
    "            print 'the number is not prime'\n",
    "            break\n",
    "    else:\n",
    "        print \"the number\",number,\" is prime\"\n",
    "\n",
    "\n",
    "            \n",
    "primeNum(23)"
   ]
  },
  {
   "cell_type": "code",
   "execution_count": null,
   "metadata": {},
   "outputs": [],
   "source": []
  }
 ],
 "metadata": {
  "kernelspec": {
   "display_name": "Python 2",
   "language": "python",
   "name": "python2"
  },
  "language_info": {
   "codemirror_mode": {
    "name": "ipython",
    "version": 2
   },
   "file_extension": ".py",
   "mimetype": "text/x-python",
   "name": "python",
   "nbconvert_exporter": "python",
   "pygments_lexer": "ipython2",
   "version": "2.7.15"
  }
 },
 "nbformat": 4,
 "nbformat_minor": 2
}
