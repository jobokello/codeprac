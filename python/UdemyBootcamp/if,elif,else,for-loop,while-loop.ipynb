{
 "cells": [
  {
   "cell_type": "code",
   "execution_count": 12,
   "metadata": {},
   "outputs": [
    {
     "data": {
      "text/plain": [
       "[0, 1, 2, 3, 4, 5, 6, 7, 8, 9, 10, 11, 12, 13, 14, 15, 16, 17, 18, 19, 20, 21]"
      ]
     },
     "execution_count": 12,
     "metadata": {},
     "output_type": "execute_result"
    }
   ],
   "source": [
    "mylist = [x for x in range(0,22)]\n",
    "mylist"
   ]
  },
  {
   "cell_type": "code",
   "execution_count": 22,
   "metadata": {},
   "outputs": [
    {
     "name": "stdout",
     "output_type": "stream",
     "text": [
      "still filling the numbers!!!\n",
      "still filling the numbers!!!\n",
      "still filling the numbers!!!\n",
      "still filling the numbers!!!\n",
      "still filling the numbers!!!\n",
      "still filling the numbers!!!\n",
      "still filling the numbers!!!\n",
      "still filling the numbers!!!\n",
      "still filling the numbers!!!\n",
      "still filling the numbers!!!\n",
      "still filling the numbers!!!\n",
      "still filling the numbers!!!\n",
      "still filling the numbers!!!\n",
      "still filling the numbers!!!\n",
      "still filling the numbers!!!\n",
      "still filling the numbers!!!\n",
      "still filling the numbers!!!\n",
      "still filling the numbers!!!\n",
      "still filling the numbers!!!\n",
      "still filling the numbers!!!\n",
      "still filling the numbers!!!\n",
      "still filling the numbers!!!\n",
      "still filling the numbers!!!\n",
      "still filling the numbers!!!\n",
      "still filling the numbers!!!\n",
      "still filling the numbers!!!\n",
      "still filling the numbers!!!\n",
      "still filling the numbers!!!\n",
      "still filling the numbers!!!\n",
      "still filling the numbers!!!\n",
      "still filling the numbers!!!\n",
      "still filling the numbers!!!\n",
      "still filling the numbers!!!\n",
      "still filling the numbers!!!\n",
      "still filling the numbers!!!\n",
      "still filling the numbers!!!\n",
      "still filling the numbers!!!\n",
      "still filling the numbers!!!\n",
      "still filling the numbers!!!\n",
      "still filling the numbers!!!\n",
      "still filling the numbers!!!\n",
      "still filling the numbers!!!\n",
      "still filling the numbers!!!\n",
      "still filling the numbers!!!\n",
      "still filling the numbers!!!\n",
      "still filling the numbers!!!\n",
      "still filling the numbers!!!\n",
      "still filling the numbers!!!\n",
      "list is filled with all 32 values\n",
      "just another number\n",
      "num is an even number 2\n",
      "num is divisible by 3 3\n",
      "num is an even number 4\n",
      "just another number\n",
      "num is an even number 6\n",
      "just another number\n",
      "num is an even number 8\n",
      "num is divisible by 3 9\n",
      "num is an even number 10\n",
      "just another number\n",
      "num is an even number 12\n",
      "just another number\n",
      "num is an even number 14\n",
      "num is divisible by 3 15\n",
      "num is an even number 16\n",
      "just another number\n",
      "num is an even number 18\n",
      "just another number\n",
      "num is an even number 20\n",
      "num is divisible by 3 21\n",
      "num is an even number 22\n",
      "just another number\n",
      "num is an even number 24\n",
      "just another number\n",
      "num is an even number 26\n",
      "num is divisible by 3 27\n",
      "num is an even number 28\n",
      "just another number\n",
      "num is an even number 30\n",
      "just another number\n",
      "num is an even number 32\n",
      "num is divisible by 3 33\n",
      "num is an even number 34\n",
      "just another number\n",
      "num is an even number 36\n",
      "just another number\n",
      "num is an even number 38\n",
      "num is divisible by 3 39\n",
      "num is an even number 40\n",
      "just another number\n",
      "num is an even number 42\n",
      "just another number\n",
      "num is an even number 44\n",
      "num is divisible by 3 45\n",
      "num is an even number 46\n",
      "just another number\n",
      "num is an even number 48\n",
      "just another number\n"
     ]
    },
    {
     "ename": "TypeError",
     "evalue": "not all arguments converted during string formatting",
     "output_type": "error",
     "traceback": [
      "\u001b[0;31m\u001b[0m",
      "\u001b[0;31mTypeError\u001b[0mTraceback (most recent call last)",
      "\u001b[0;32m<ipython-input-22-e14250049553>\u001b[0m in \u001b[0;36m<module>\u001b[0;34m()\u001b[0m\n\u001b[1;32m     15\u001b[0m \u001b[0;34m\u001b[0m\u001b[0m\n\u001b[1;32m     16\u001b[0m \u001b[0;32mfor\u001b[0m \u001b[0mnum\u001b[0m \u001b[0;32min\u001b[0m \u001b[0mmylist\u001b[0m\u001b[0;34m:\u001b[0m\u001b[0;34m\u001b[0m\u001b[0m\n\u001b[0;32m---> 17\u001b[0;31m     \u001b[0;32mif\u001b[0m \u001b[0mnum\u001b[0m\u001b[0;34m%\u001b[0m\u001b[0;36m2\u001b[0m \u001b[0;34m==\u001b[0m \u001b[0;36m0\u001b[0m\u001b[0;34m:\u001b[0m\u001b[0;34m\u001b[0m\u001b[0m\n\u001b[0m\u001b[1;32m     18\u001b[0m         \u001b[0;32mprint\u001b[0m \u001b[0;34m'num is an even number'\u001b[0m\u001b[0;34m,\u001b[0m\u001b[0mnum\u001b[0m\u001b[0;34m\u001b[0m\u001b[0m\n\u001b[1;32m     19\u001b[0m     \u001b[0;32melif\u001b[0m \u001b[0mnum\u001b[0m\u001b[0;34m%\u001b[0m\u001b[0;36m3\u001b[0m \u001b[0;34m==\u001b[0m \u001b[0;36m0\u001b[0m\u001b[0;34m:\u001b[0m\u001b[0;34m\u001b[0m\u001b[0m\n",
      "\u001b[0;31mTypeError\u001b[0m: not all arguments converted during string formatting"
     ]
    }
   ],
   "source": [
    "mylist = []\n",
    "x = 1\n",
    "\n",
    "while x < 50:\n",
    "    mylist.append(x)\n",
    "    x += 1\n",
    "    \n",
    "    if x == 50:\n",
    "        print 'list is filled with all %x values' %(x)\n",
    "        mylist.append('end of list')\n",
    "    elif x < 50:\n",
    "        print 'still filling the numbers!!!'\n",
    "    else:\n",
    "        print 'nothing is going on'\n",
    "        \n",
    "for num in mylist:\n",
    "    if num%2 == 0:\n",
    "        print 'num is an even number',num\n",
    "    elif num%3 == 0:\n",
    "        print 'num is divisible by 3',num\n",
    "    else:\n",
    "        print 'just another number'\n",
    "        "
   ]
  },
  {
   "cell_type": "code",
   "execution_count": null,
   "metadata": {},
   "outputs": [],
   "source": []
  }
 ],
 "metadata": {
  "kernelspec": {
   "display_name": "Python 2",
   "language": "python",
   "name": "python2"
  },
  "language_info": {
   "codemirror_mode": {
    "name": "ipython",
    "version": 2
   },
   "file_extension": ".py",
   "mimetype": "text/x-python",
   "name": "python",
   "nbconvert_exporter": "python",
   "pygments_lexer": "ipython2",
   "version": "2.7.15"
  }
 },
 "nbformat": 4,
 "nbformat_minor": 2
}
